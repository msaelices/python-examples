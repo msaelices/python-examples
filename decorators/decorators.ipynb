{
 "cells": [
  {
   "cell_type": "markdown",
   "metadata": {},
   "source": [
    "# Decorators in Python"
   ]
  },
  {
   "cell_type": "code",
   "execution_count": 6,
   "metadata": {},
   "outputs": [],
   "source": [
    "import time\n",
    "from functools import wraps\n",
    "\n",
    "_cache = {}\n",
    "\n",
    "def cached(func):\n",
    "    @wraps(func)\n",
    "    def wrapper(*args, **kwargs):\n",
    "        cache_key = args + tuple(kwargs.items())\n",
    "        if cache_key in _cache:\n",
    "            return _cache[cache_key]\n",
    "        result = func(*args, **kwargs)\n",
    "        _cache[cache_key] = result\n",
    "        return result\n",
    "    return wrapper\n",
    "\n",
    "def timer(func):\n",
    "    @wraps(func)\n",
    "    def wrapper(*args, **kwargs):\n",
    "        t1 = time.time()\n",
    "        result = func(*args, **kwargs)\n",
    "        t2 = time.time()\n",
    "        print(f'{func.__name__} with args={args} and kwargs={kwargs} took {t2 - t1} seconds')\n",
    "        return result\n",
    "    return wrapper"
   ]
  },
  {
   "cell_type": "markdown",
   "metadata": {},
   "source": [
    "## Cached Fibonnaci function"
   ]
  },
  {
   "cell_type": "code",
   "execution_count": 7,
   "metadata": {},
   "outputs": [],
   "source": [
    "@timer\n",
    "@cached\n",
    "def fib(n):\n",
    "    \"\"\"Return the Fibonacci function result of an integer\"\"\"\n",
    "    return fib(n - 1) + fib(n - 2) if n > 1 else n"
   ]
  },
  {
   "cell_type": "code",
   "execution_count": 8,
   "metadata": {},
   "outputs": [
    {
     "name": "stdout",
     "output_type": "stream",
     "text": [
      "fib with args=(1,) and kwargs={} took 6.9141387939453125e-06 seconds\n",
      "fib with args=(0,) and kwargs={} took 1.9073486328125e-06 seconds\n",
      "fib with args=(2,) and kwargs={} took 9.512901306152344e-05 seconds\n",
      "fib with args=(1,) and kwargs={} took 2.1457672119140625e-06 seconds\n",
      "fib with args=(3,) and kwargs={} took 0.00013303756713867188 seconds\n",
      "fib with args=(2,) and kwargs={} took 3.0994415283203125e-06 seconds\n",
      "fib with args=(4,) and kwargs={} took 0.0004589557647705078 seconds\n",
      "fib with args=(3,) and kwargs={} took 3.0994415283203125e-06 seconds\n",
      "fib with args=(5,) and kwargs={} took 0.0005419254302978516 seconds\n",
      "fib with args=(4,) and kwargs={} took 2.1457672119140625e-06 seconds\n",
      "fib with args=(6,) and kwargs={} took 0.0005898475646972656 seconds\n",
      "8\n"
     ]
    }
   ],
   "source": [
    "print(fib(6))"
   ]
  }
 ],
 "metadata": {
  "kernelspec": {
   "display_name": "Python 3",
   "language": "python",
   "name": "python3"
  },
  "language_info": {
   "codemirror_mode": {
    "name": "ipython",
    "version": 3
   },
   "file_extension": ".py",
   "mimetype": "text/x-python",
   "name": "python",
   "nbconvert_exporter": "python",
   "pygments_lexer": "ipython3",
   "version": "3.8.4"
  }
 },
 "nbformat": 4,
 "nbformat_minor": 2
}
